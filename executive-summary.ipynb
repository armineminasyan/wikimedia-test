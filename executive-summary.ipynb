{
 "cells": [
  {
   "cell_type": "markdown",
   "metadata": {},
   "source": [
    "## Results of A/B testing\n",
    "\n",
    "The A/B test showed significant differences between the two user groups.\n",
    "Users of **group B**:\n",
    "* Have **lower clickthrough** rates: when presented with search results, they were less likely to click on one of them.\n",
    "    * *Group A* users clicked on results on 70% of the sessions;\n",
    "    * *Group B* users did so only on 21% of their sessions.\n",
    "* Received more search results page with **zero results**.\n",
    "    * Only 5% of *group A* searches obtained no results;\n",
    "    * This figure increases to almost 17% for *group B*.\n",
    "* When receiving search results, they **clicked more on top-3 results** than *group A* users.\n",
    "    * In general, they clicked more on high-ranked results and less on low-ranked results, compared with *group A* users.\n",
    "* Spend **less time on the website**.\n",
    "    * Users of *group A* stay on the website, on average, 5 times as much as users of *group B*."
   ]
  },
  {
   "cell_type": "markdown",
   "metadata": {},
   "source": [
    "## Importance of search results\n",
    "\n",
    "We recommend increasing the effort put in presenting relevant search results to the users.\n",
    "This can be accomplished by having more and higher-quality content on the website, and by improving the search algorithm and the ranking of results.\n",
    "The reasons behind this reccommendation are:\n",
    "* Providing the users with some result, rather than no result, has a tremendous impact on **engagement**.\n",
    "    * Users who received search results stayed on the website circa 6.5 times as much as users who did't.\n",
    "* More than 91% of users who clicked on search results clicked on a **top-5** result, with more than 63% of the users clicking on the first result."
   ]
  }
 ],
 "metadata": {
  "kernelspec": {
   "display_name": "Python 3",
   "language": "python",
   "name": "python3"
  },
  "language_info": {
   "codemirror_mode": {
    "name": "ipython",
    "version": 3
   },
   "file_extension": ".py",
   "mimetype": "text/x-python",
   "name": "python",
   "nbconvert_exporter": "python",
   "pygments_lexer": "ipython3",
   "version": "3.7.2"
  }
 },
 "nbformat": 4,
 "nbformat_minor": 2
}
