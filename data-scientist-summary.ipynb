{
 "cells": [
  {
   "cell_type": "markdown",
   "metadata": {},
   "source": [
    "## Observations on the data\n",
    "\n",
    "1. Some timestamp values in the csv file have been written in scientific notation as if they were interpreted as floating point numbers (e.g., `2.0160304e+13`). Make sure the data collection process always writes timestamps as strings.\n",
    "2. Some pints (checkin events) are simultaneous or are missing.\n",
    "3. We might consider moving the data to a relational database, to handle more easily the relations between sessions, search result pages, and page visits."
   ]
  },
  {
   "cell_type": "markdown",
   "metadata": {},
   "source": [
    "## Metrics\n",
    "\n",
    "### Clickthrough rate\n",
    "\n",
    "The clickthrough rate is stable over time (in the limited time span considered) but varies largely with the user group used in A/B testing.\n",
    "\n",
    "![](figures/clickthrough-groups.png)"
   ]
  },
  {
   "cell_type": "markdown",
   "metadata": {},
   "source": [
    "### Zero-results rate\n",
    "\n",
    "The zero-results rate is largely stable both over time and over user groups.\n",
    "\n",
    "![](figures/zero-results-groups.png)"
   ]
  },
  {
   "cell_type": "markdown",
   "metadata": {},
   "source": [
    "### Search response accuracy\n",
    "\n",
    "Accuracy in ranking search results is very important, as most user would click on the first available result.\n",
    "It's not possible from this data to establish causal inference: are users clicking on the first result because it's the most relevant, or merely because it is the first?\n",
    "\n",
    "B Users were more likely than A Users to click on the very first result, and less likely to click on results after the third.\n",
    "\n",
    "![](figures/ranking-groups.png)\n",
    "\n",
    "On average, A Users tended to click on results further down the list than B Users.\n",
    "There were two days with clusters of outliers (search results very down in the list, which were clicked consistently).\n",
    "Both cluster of outliers pertain to A Users, but there are not enough days in the observed time span to conclude whether or not A Users are consistently more likely to show these outliers.\n",
    "\n",
    "![](figures/res-positions-groups.png)"
   ]
  },
  {
   "cell_type": "markdown",
   "metadata": {},
   "source": [
    "### Session length\n",
    "\n",
    "When measuring user engagement as time spent on the website (i.e., the length of each session), we notice that:\n",
    "* For users who search something, a main driver of engagement is whether or not their search produces results.\n",
    "* A Users spend more time on the website than B Users, even when controlling for the success of their searches.\n",
    "* The distribution of the session lengths shows two peaks: one close to zero, and one close to 7 minutes. Further investigation is needed to check whether this second peak is due to user behaviour, or technical reasons during the data collection process.\n",
    "\n",
    "| User Group | Successful Search | Average Session Length |\n",
    "|------------|-------------------|------------------------|\n",
    "| A          | Yes               | 213.81 s               |\n",
    "| A          | No                |  84.47 s               |\n",
    "| B          | Yes               |  46.06 s               |\n",
    "| B          | No                |   4.82 s               |\n",
    "\n",
    "![](figures/session-length-kde.png)"
   ]
  }
 ],
 "metadata": {
  "kernelspec": {
   "display_name": "Python 3",
   "language": "python",
   "name": "python3"
  },
  "language_info": {
   "codemirror_mode": {
    "name": "ipython",
    "version": 3
   },
   "file_extension": ".py",
   "mimetype": "text/x-python",
   "name": "python",
   "nbconvert_exporter": "python",
   "pygments_lexer": "ipython3",
   "version": "3.7.2"
  }
 },
 "nbformat": 4,
 "nbformat_minor": 2
}
